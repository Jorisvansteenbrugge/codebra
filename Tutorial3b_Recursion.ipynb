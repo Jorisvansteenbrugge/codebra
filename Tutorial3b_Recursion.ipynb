{
 "cells": [
  {
   "cell_type": "markdown",
   "metadata": {},
   "source": [
    "# Recursion vs Iteration\n",
    "\n",
    "The functional programming style, also strongly prefers [recursion](https://en.wikipedia.org/wiki/Recursion#In_computer_science) instead of iteration. \n",
    "\n",
    "In recursion a function calls itself until a *base* case is found. \n",
    "\n",
    "Recursion resembles a lot the mathematical definition of functions.\n",
    "\n",
    "For example, the [factorial](https://en.wikipedia.org/wiki/Factorial) of a non-negative integer n, \n",
    "denoted by n!, is the product of all positive integers less than or equal to n. For example,\n",
    "\n",
    "$5! = 1 \\times 2 \\times 3 \\times 4 \\times 5 $\n",
    "\n",
    "A formal definition is:\n",
    "\n",
    "\\begin{equation}\n",
    "n!=\\left\\{\\begin{matrix}\n",
    "1 & n=0 \\\\ \n",
    "(n-1)! \\times n & n>0\n",
    "\\end{matrix}\\right.\n",
    "\\end{equation}\n",
    "\n",
    "As seen in the Equation above, there is a general case (a recursive definition that corresponds to every $n>0$), \n",
    "and a base case, i.e. a terminating scenario that does not use recursion to produce an answer (for $n==0$). \n",
    "\n",
    "Typically, one would program this function using iteration, i.e. the way it is calculated, as in  \n",
    "$n! = 1 \\times 2 \\times 3 \\times 4 \\times ... \\times n$"
   ]
  },
  {
   "cell_type": "code",
   "execution_count": null,
   "metadata": {},
   "outputs": [],
   "source": [
    "def factorial_iteration(n):\n",
    "  result = 1\n",
    "  for i in range(1,n+1):\n",
    "    result = result*i\n",
    "  return result"
   ]
  },
  {
   "cell_type": "markdown",
   "metadata": {},
   "source": [
    "**Exercise**:  \n",
    "Modify the code above to print some message while iterating, so that you can confirm how it really works!"
   ]
  },
  {
   "cell_type": "code",
   "execution_count": null,
   "metadata": {},
   "outputs": [],
   "source": [
    " # Now test it here\n",
    "factorial_iteration(5)"
   ]
  },
  {
   "cell_type": "markdown",
   "metadata": {},
   "source": [
    "However, in the recursion style write in code the function very much like as it is defined in the equation:"
   ]
  },
  {
   "cell_type": "code",
   "execution_count": null,
   "metadata": {},
   "outputs": [],
   "source": [
    "def factorial_recursion(n):\n",
    "  if n==1:     # This is the base case\n",
    "    return 1  # The value returned\n",
    "  else:\n",
    "    return n * factorial_recursion(n-1)\n",
    "              # The general case that is recursive"
   ]
  },
  {
   "cell_type": "markdown",
   "metadata": {},
   "source": [
    "**Exercise**:  \n",
    "Modify the code above to print some message while recursive calls, so that you can confirm how it really works!"
   ]
  },
  {
   "cell_type": "code",
   "execution_count": null,
   "metadata": {},
   "outputs": [],
   "source": [
    " # Now test it here\n",
    "factorial_recursion(5)"
   ]
  },
  {
   "cell_type": "markdown",
   "metadata": {},
   "source": [
    "**Exercises**: Define the following functions using recursion!\n",
    "\n",
    "1. Write a function sum_list, which calculates the sum of all elements of a list  \n",
    "i.e. `sum_list([1,2,3,4])` should return 10.\n",
    "2. Write a function product_list, which calculates the product of all elements of a list  \n",
    "i.e. `product_list([1,2,3,4])` should return 24.\n",
    "3. Write a function reverse_list, which reverses all the elements of a list.  \n",
    "i.e. `reverse_list(['a','b','c'])` should produce `['c', 'b', 'a']`\n",
    "4. Write a function `gcd` that returns the greatest common divisor of two integers. Use\n",
    "*Euclid's algorithm*, that defines:  \n",
    "\\begin{equation}\n",
    "gcd(a,b)=\\left\\{\\begin{matrix}\n",
    "a & b=0 \\\\ \n",
    "gcd( b, a \\mod b) & b>0\n",
    "\\end{matrix}\\right.\n",
    "\\end{equation}\n",
    "Where $\n",
    "mod$ is the modulo operation (in Python its `%`).\n",
    "5. Write a function `member(value, a_list)` that returns True if the `a_list` contains at least one element equal to `value`.  \n",
    "i.e. `member(2, [1,2,3,4])` should return True\n",
    "6. Write a function `lesser(threshold, a_list )` that returns a list of all elements of `a_list`  that al lesser than a given `threshold`.\n",
    "7. Write a function `repeats(a_list )` that returns True only if `a_list` contains at two equal elements in neighboring positions.  \n",
    "i.e. `repeats([1,2,2,3,4])` should return True, while `repeats([1,2,3,2,4])` will return False."
   ]
  },
  {
   "cell_type": "code",
   "execution_count": null,
   "metadata": {
    "attributes": {
     "classes": [
      "python}{.input"
     ],
     "id": ""
    }
   },
   "outputs": [],
   "source": [
    " # sum_list # your code here\n",
    " #\n",
    " # product_list # your code here\n",
    " #\n",
    " # reverse_list # your code here\n",
    " #\n",
    " # gcd # your code here\n",
    " #\n",
    " # member # your code here\n",
    " #\n",
    " # lesser # your code here\n",
    " #\n",
    " # repeats # your code here"
   ]
  },
  {
   "cell_type": "markdown",
   "metadata": {},
   "source": [
    "**Challenge** (optional)  \n",
    "Could you rewrite the functionS above using lambdas and the ternary expression?\n",
    "\n",
    "````{.python}{.input}\n",
    " # sum_list # your code here\n",
    " #\n",
    "````"
   ]
  }
 ],
 "metadata": {},
 "nbformat": 4,
 "nbformat_minor": 0
}
