{
 "cells": [
  {
   "cell_type": "markdown",
   "metadata": {},
   "source": [
    "# Lambda functions\n",
    "\n",
    "Python supports the creation of anonymous functions (i.e. functions that are not bound to a name) at runtime, using a construct called `lambda`. This is not exactly the same as lambda in functional programming languages, but it is a very powerful concept that's well integrated into Python and is often used in conjunction with typical functional concepts that we will examine soon!\n",
    "\n",
    "Both MapReduce and Spark have taken their inspiration from functional programming and hence understanding lambda functions will help you to understand MapReduce and Spark.\n",
    "\n",
    "A lambda function is defined with the keyword  `lambda`\n",
    "<pre>\n",
    "lambda args : function_body\n",
    "</pre>\n",
    "\n",
    "*Strange* (though powerful) features of lambda functions are:\n",
    "- A colon (`:`) separates the arguments from the body of the function\n",
    "- A lambda function has no `return` statement, and no indentation is needed\n",
    "- A lambda function can be assigned to a variable, which then is used as the name of the function. \n",
    "  This is not possible with functions that are defined using `def`.\n",
    "\n",
    "Let's look at an example. We will first define a Python function the common way, using `def`, and then we will do the same with `lambda`.\n",
    "\n",
    "The function `times` below returns the product of its two arguments:"
   ]
  },
  {
   "cell_type": "code",
   "execution_count": null,
   "metadata": {},
   "outputs": [],
   "source": [
    " # Define the function we use def\n",
    "def times(x,y):\n",
    "        return x*y\n",
    "\n",
    " # Next we call the function by its name:\n",
    "times(2,3)"
   ]
  },
  {
   "cell_type": "markdown",
   "metadata": {},
   "source": [
    "Now, lets do the same, as a lambda function:"
   ]
  },
  {
   "cell_type": "code",
   "execution_count": null,
   "metadata": {},
   "outputs": [],
   "source": [
    " # This is how to define a lambda function\n",
    " # and assign it to a variable!  \n",
    "\n",
    "lambdatimes = lambda x,y: x * y\n",
    "\n",
    " # Next we call the function by using the variable name as a function\n",
    "lambdatimes(2,3)"
   ]
  },
  {
   "cell_type": "markdown",
   "metadata": {},
   "source": [
    "Lambda functions are first class citizens of the programming language, so you can have more than one variables assigned to the same function."
   ]
  },
  {
   "cell_type": "code",
   "execution_count": null,
   "metadata": {},
   "outputs": [],
   "source": [
    "my_lambda = lambdatimes\n",
    "my_lambda(3,4)"
   ]
  },
  {
   "cell_type": "markdown",
   "metadata": {},
   "source": [
    "Lambda functions are anonymous, in the sense that you do not need to assign them to a name.\n",
    "\n",
    "The following is a valid statement in Python:"
   ]
  },
  {
   "cell_type": "code",
   "execution_count": null,
   "metadata": {},
   "outputs": [],
   "source": [
    " # This creates an anonymous function, and applies it for two arguments\n",
    "(lambda x,y: x * y)(2,3)\n",
    " # Only the result of applying the function is remembered. \n",
    " # The anonymous function is forgotten."
   ]
  },
  {
   "cell_type": "markdown",
   "metadata": {},
   "source": [
    "**Exercises**  \n",
    "1. Write a lambda function that calculates the sum of two numbers.\n",
    "2.  Write a lambda function that calculates the cube of a number.\n",
    "3.  Write a lambda function that converts a temperature from degrees Celsius to Fahrenheit\n",
    "4.  Write a lambda function that returns the first item of a list\n",
    "5.  Write a lambda function that gets a number and returns True if even, False otherwise  \n",
    "(Use the syntax of the ternary expression: `result = x if (condition) else y`)\n",
    "-  Write a lambda function that returns the minimum of exactly two numbers.  \n",
    "Use the ternary expression too\n",
    "-  Write a lambda function that returns the minimum element of exactly three numbers.  \n",
    "-  Write a lambda function that returns the first and the third elements of a list\n",
    "-  Write a lambda function that gets a list of numbers and returns a tuple of the max  and the min elements\n",
    "-  Write a lambda function that gets a list of numbers and returns a dict of the `max`  and the `min` elements\n",
    "- Write a lambda function that gets a string and returns a list of the words contained\n",
    "-  Write a lambda function that gets a list and generates a cyclic permutation of its elements, i.e. \n",
    "   returns a list where the first item has been placed at the end"
   ]
  },
  {
   "cell_type": "code",
   "execution_count": null,
   "metadata": {},
   "outputs": [],
   "source": [
    "sum_two = your_code_here\n",
    "\n",
    "cube = your_code_here\n",
    "\n",
    "fahrenheit = your_code_here\n",
    "\n",
    "first_element = your code here\n",
    "\n",
    "is_even = your code here\n",
    "\n",
    "min_of_two = your code here\n",
    "\n",
    "min_of_three =  your code here\n",
    "\n",
    "remove_second = your code here\n",
    "\n",
    "max_min_tuple = your code here\n",
    "\n",
    "max_min_dict = your code here\n",
    "\n",
    "words = your code here\n",
    "\n",
    "cycle =\n"
   ]
  },
  {
   "cell_type": "code",
   "execution_count": null,
   "metadata": {},
   "outputs": [],
   "source": [
    " # Run this cell to test if to roughly check your code\n",
    "from test_helper import Test\n",
    "Test.assertEquals(sum_two(2,4), 6, 'sum_two is not working')\n",
    "Test.assertEquals(cube(2), 8, 'cube is not working')\n",
    "Test.assertEquals(fahrenheit(100), 212, 'fahrenheit is not working')\n",
    "Test.assertEquals(fahrenheit(80), 176, 'fahrenheit is not working')\n",
    "Test.assertEquals(first_element([3,11,2,12,3,15]), 3, 'first_element is not working')\n",
    "Test.assertTrue(is_even(8),  'is_even is not working')\n",
    "Test.assertTrue(not is_even(7),  'is_even is not working')\n",
    "Test.assertEquals(min_of_two(2,3),2,  'min_of_two is not working')\n",
    "Test.assertEquals(min_of_two(3,2),2,  'min_of_two is not working')\n",
    "try:\n",
    "    min_of_two(2,4)\n",
    "    Test.assertTrue(True,\"min_of_two is working for more arguments\")\n",
    "except:\n",
    "    Test.assertTrue(False,\"min_of_two is working for more arguments\")\n",
    "Test.assertEquals(min_of_three(1,2,3),1,  'min_of_three is not working')\n",
    "Test.assertEquals(min_of_three(3,2,1),1,  'min_of_three is not working')\n",
    "Test.assertEquals(min_of_three(3,1,2),1,  'min_of_three is not working')\n",
    "try:\n",
    "    min_of_three(2,4)\n",
    "    min_of_three(2,4,3,4)\n",
    "    Test.assertTrue(True,\"min_of_three is working for more arguments\")\n",
    "except:\n",
    "    Test.assertTrue(False,\"min_of_three is working for more arguments\")\n",
    "Test.assertEquals(remove_second(3,2),(3,2),  'remove_second is not working')\n",
    "Test.assertEquals(max_min_tuple([2,3,4,1]),(4,1),  'max_min_tuple is not working')\n",
    "Test.assertEquals(max_min_dict([2,3,4,1]),{max:4, min:1},  'max_min_dict is not working')\n",
    "Test.assertEquals(words(\"May the force be with you\"), ['May', 'the', 'force', 'be', 'with', 'you'],  'words is not working')\n",
    "Test.assertEquals(words(cycle([2,3,4,1]), [1,2,3,4],  'cycle is not working')"
   ]
  }
 ],
 "metadata": {},
 "nbformat": 4,
 "nbformat_minor": 0
}
